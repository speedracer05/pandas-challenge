{
 "cells": [
  {
   "cell_type": "markdown",
   "metadata": {},
   "source": [
    "### Note\n",
    "* Instructions have been included for each segment. You do not have to follow them exactly, but they are included to help you think through the steps."
   ]
  },
  {
   "cell_type": "code",
   "execution_count": 1,
   "metadata": {},
   "outputs": [],
   "source": [
    "# %jupyter notebook"
   ]
  },
  {
   "cell_type": "code",
   "execution_count": 2,
   "metadata": {},
   "outputs": [],
   "source": [
    "# Dependencies and Setup\n",
    "import pandas as pd\n",
    "import numpy as np\n",
    "\n",
    "# Store filepath in a variable\n",
    "purchase_data = 'Resources/purchase_data.csv'\n",
    "\n",
    "# Read Purchasing File and store into Pandas data frame\n",
    "purchase_data_df = pd.read_csv(purchase_data)"
   ]
  },
  {
   "cell_type": "code",
   "execution_count": 3,
   "metadata": {},
   "outputs": [],
   "source": [
    "# show the header\n",
    "purchase_data_df.head()"
   ]
  },
  {
   "cell_type": "markdown",
   "metadata": {},
   "source": [
    "## Player Count"
   ]
  },
  {
   "cell_type": "markdown",
   "metadata": {},
   "source": [
    "* Display the total number of players\n"
   ]
  },
  {
   "cell_type": "code",
   "execution_count": 4,
   "metadata": {},
   "outputs": [
    {
     "data": {
      "text/html": [
       "<div>\n",
       "<style scoped>\n",
       "    .dataframe tbody tr th:only-of-type {\n",
       "        vertical-align: middle;\n",
       "    }\n",
       "\n",
       "    .dataframe tbody tr th {\n",
       "        vertical-align: top;\n",
       "    }\n",
       "\n",
       "    .dataframe thead th {\n",
       "        text-align: right;\n",
       "    }\n",
       "</style>\n",
       "<table border=\"1\" class=\"dataframe\">\n",
       "  <thead>\n",
       "    <tr style=\"text-align: right;\">\n",
       "      <th></th>\n",
       "      <th>Count of Unique Players</th>\n",
       "    </tr>\n",
       "  </thead>\n",
       "  <tbody>\n",
       "    <tr>\n",
       "      <th>0</th>\n",
       "      <td>576</td>\n",
       "    </tr>\n",
       "  </tbody>\n",
       "</table>\n",
       "</div>"
      ],
      "text/plain": [
       "   Count of Unique Players\n",
       "0                      576"
      ]
     },
     "execution_count": 4,
     "metadata": {},
     "output_type": "execute_result"
    }
   ],
   "source": [
    "# Create player df, display player count using unique values in SN\n",
    "user_count_df = purchase_data_df['SN'].nunique()\n",
    "game_player = pd.DataFrame({'Count of Unique Players' : user_count_df}, index = [0])\n",
    "\n",
    "\n",
    "game_player"
   ]
  },
  {
   "cell_type": "markdown",
   "metadata": {},
   "source": [
    "## Purchasing Analysis (Total)"
   ]
  },
  {
   "cell_type": "markdown",
   "metadata": {},
   "source": [
    "* Run basic calculations to obtain number of unique items, average price, etc.\n",
    "\n",
    "\n",
    "* Create a summary data frame to hold the results\n",
    "\n",
    "\n",
    "* Optional: give the displayed data cleaner formatting\n",
    "\n",
    "\n",
    "* Display the summary data frame\n"
   ]
  },
  {
   "cell_type": "code",
   "execution_count": 5,
   "metadata": {},
   "outputs": [],
   "source": [
    "#Convert  \"Price\" column values to float\n",
    "converted_purchase_data_df = purchase_data_df.copy()\n",
    "converted_purchase_data_df['Price'] = converted_purchase_data_df.loc[:, 'Price'].astype(float)"
   ]
  },
  {
   "cell_type": "code",
   "execution_count": 6,
   "metadata": {},
   "outputs": [
    {
     "data": {
      "text/html": [
       "<div>\n",
       "<style scoped>\n",
       "    .dataframe tbody tr th:only-of-type {\n",
       "        vertical-align: middle;\n",
       "    }\n",
       "\n",
       "    .dataframe tbody tr th {\n",
       "        vertical-align: top;\n",
       "    }\n",
       "\n",
       "    .dataframe thead th {\n",
       "        text-align: right;\n",
       "    }\n",
       "</style>\n",
       "<table border=\"1\" class=\"dataframe\">\n",
       "  <thead>\n",
       "    <tr style=\"text-align: right;\">\n",
       "      <th></th>\n",
       "      <th>Unit Sales</th>\n",
       "    </tr>\n",
       "  </thead>\n",
       "  <tbody>\n",
       "    <tr>\n",
       "      <th>0</th>\n",
       "      <td>780</td>\n",
       "    </tr>\n",
       "  </tbody>\n",
       "</table>\n",
       "</div>"
      ],
      "text/plain": [
       "   Unit Sales\n",
       "0         780"
      ]
     },
     "execution_count": 6,
     "metadata": {},
     "output_type": "execute_result"
    }
   ],
   "source": [
    "# Total titles sold in column\n",
    "unit_sales_df = len(converted_purchase_data_df['Purchase ID'])\n",
    "total_sales = pd.DataFrame({'Unit Sales' : unit_sales_df}, index = [0])\n",
    "total_sales"
   ]
  },
  {
   "cell_type": "code",
   "execution_count": 7,
   "metadata": {},
   "outputs": [
    {
     "data": {
      "text/html": [
       "<div>\n",
       "<style scoped>\n",
       "    .dataframe tbody tr th:only-of-type {\n",
       "        vertical-align: middle;\n",
       "    }\n",
       "\n",
       "    .dataframe tbody tr th {\n",
       "        vertical-align: top;\n",
       "    }\n",
       "\n",
       "    .dataframe thead th {\n",
       "        text-align: right;\n",
       "    }\n",
       "</style>\n",
       "<table border=\"1\" class=\"dataframe\">\n",
       "  <thead>\n",
       "    <tr style=\"text-align: right;\">\n",
       "      <th></th>\n",
       "      <th>Unique Titles Sold</th>\n",
       "    </tr>\n",
       "  </thead>\n",
       "  <tbody>\n",
       "    <tr>\n",
       "      <th>0</th>\n",
       "      <td>179</td>\n",
       "    </tr>\n",
       "  </tbody>\n",
       "</table>\n",
       "</div>"
      ],
      "text/plain": [
       "   Unique Titles Sold\n",
       "0                 179"
      ]
     },
     "execution_count": 7,
     "metadata": {},
     "output_type": "execute_result"
    }
   ],
   "source": [
    "# Number of unique titles \n",
    "unique_titles = len(set(converted_purchase_data_df['Item Name']))\n",
    "\n",
    "number_unique_values = pd.DataFrame({'Unique Titles Sold' : unique_titles}, index = [0])\n",
    "\n",
    "number_unique_values"
   ]
  },
  {
   "cell_type": "code",
   "execution_count": 8,
   "metadata": {},
   "outputs": [
    {
     "data": {
      "text/plain": [
       "Final Critic                                    13\n",
       "Oathbreaker, Last Hope of the Breaking Storm    12\n",
       "Fiery Glass Crusader                             9\n",
       "Nirvana                                          9\n",
       "Extraction, Quickblade Of Trembling Hands        9\n",
       "Name: Item Name, dtype: int64"
      ]
     },
     "execution_count": 8,
     "metadata": {},
     "output_type": "execute_result"
    }
   ],
   "source": [
    "# Qty of game titles sold by Item Name\n",
    "title_counts_df = converted_purchase_data_df['Item Name'].value_counts()\n",
    "title_counts_df.head()"
   ]
  },
  {
   "cell_type": "code",
   "execution_count": 9,
   "metadata": {},
   "outputs": [
    {
     "name": "stdout",
     "output_type": "stream",
     "text": [
      "$3.05\n"
     ]
    }
   ],
   "source": [
    "# Average price paid. Output includes formatting ($ and two decimal places)\n",
    "average_price = converted_purchase_data_df['Price'].mean()\n",
    "print(f'${average_price:.2f}')\n",
    "\n",
    "#asp_price = pd.DataFrame({\"Average Price\" : average_price}, index=[0])\n",
    "\n",
    "#asp_price = asp_price.style.format('${0:,.2f}')\n",
    "\n",
    "#asp_price"
   ]
  },
  {
   "cell_type": "code",
   "execution_count": 10,
   "metadata": {},
   "outputs": [
    {
     "name": "stdout",
     "output_type": "stream",
     "text": [
      "$2379.77\n"
     ]
    }
   ],
   "source": [
    "# 4 Gross Sales. Output includes formatting ($ and two decimal places)\n",
    "gross_sales_df = converted_purchase_data_df['Price'].sum()\n",
    "print(f'${gross_sales_df:.2f}')"
   ]
  },
  {
   "cell_type": "code",
   "execution_count": 11,
   "metadata": {},
   "outputs": [
    {
     "data": {
      "text/html": [
       "<div>\n",
       "<style scoped>\n",
       "    .dataframe tbody tr th:only-of-type {\n",
       "        vertical-align: middle;\n",
       "    }\n",
       "\n",
       "    .dataframe tbody tr th {\n",
       "        vertical-align: top;\n",
       "    }\n",
       "\n",
       "    .dataframe thead th {\n",
       "        text-align: right;\n",
       "    }\n",
       "</style>\n",
       "<table border=\"1\" class=\"dataframe\">\n",
       "  <thead>\n",
       "    <tr style=\"text-align: right;\">\n",
       "      <th></th>\n",
       "      <th>Total Revenue</th>\n",
       "      <th>Total Number of Purchases</th>\n",
       "      <th>Average Price</th>\n",
       "      <th>Unique Items Sold</th>\n",
       "      <th>Unique Players</th>\n",
       "    </tr>\n",
       "  </thead>\n",
       "  <tbody>\n",
       "    <tr>\n",
       "      <th>0</th>\n",
       "      <td>$2,379.77</td>\n",
       "      <td>780</td>\n",
       "      <td>$3.05</td>\n",
       "      <td>179</td>\n",
       "      <td>576</td>\n",
       "    </tr>\n",
       "  </tbody>\n",
       "</table>\n",
       "</div>"
      ],
      "text/plain": [
       "  Total Revenue  Total Number of Purchases Average Price  Unique Items Sold  \\\n",
       "0     $2,379.77                        780         $3.05                179   \n",
       "\n",
       "   Unique Players  \n",
       "0             576  "
      ]
     },
     "execution_count": 11,
     "metadata": {},
     "output_type": "execute_result"
    }
   ],
   "source": [
    "# Place all of the data found into a summary DataFrame\n",
    "summary_df = pd.DataFrame({'Total Revenue': [f'${gross_sales_df:,.2f}'],\n",
    "                              'Total Number of Purchases': unit_sales_df,\n",
    "                              'Average Price': [f'${average_price:.2f}'],\n",
    "                              'Unique Items Sold' : unique_titles,\n",
    "                              'Unique Players': user_count_df})\n",
    "summary_df"
   ]
  },
  {
   "cell_type": "markdown",
   "metadata": {},
   "source": [
    "## Gender Demographics"
   ]
  },
  {
   "cell_type": "markdown",
   "metadata": {},
   "source": [
    "* Percentage and Count of Male Players\n",
    "\n",
    "\n",
    "* Percentage and Count of Female Players\n",
    "\n",
    "\n",
    "* Percentage and Count of Other / Non-Disclosed\n",
    "\n",
    "\n"
   ]
  },
  {
   "cell_type": "code",
   "execution_count": 12,
   "metadata": {},
   "outputs": [
    {
     "data": {
      "text/html": [
       "<style  type=\"text/css\" >\n",
       "</style><table id=\"T_aa02e4fe_9e06_11eb_a5e9_ac12034bbb98\" ><thead>    <tr>        <th class=\"blank level0\" ></th>        <th class=\"col_heading level0 col0\" >Number of Players</th>        <th class=\"col_heading level0 col1\" >Percentage Split</th>    </tr>    <tr>        <th class=\"index_name level0\" >Gender</th>        <th class=\"blank\" ></th>        <th class=\"blank\" ></th>    </tr></thead><tbody>\n",
       "                <tr>\n",
       "                        <th id=\"T_aa02e4fe_9e06_11eb_a5e9_ac12034bbb98level0_row0\" class=\"row_heading level0 row0\" >Female</th>\n",
       "                        <td id=\"T_aa02e4fe_9e06_11eb_a5e9_ac12034bbb98row0_col0\" class=\"data row0 col0\" >81</td>\n",
       "                        <td id=\"T_aa02e4fe_9e06_11eb_a5e9_ac12034bbb98row0_col1\" class=\"data row0 col1\" >14.06%</td>\n",
       "            </tr>\n",
       "            <tr>\n",
       "                        <th id=\"T_aa02e4fe_9e06_11eb_a5e9_ac12034bbb98level0_row1\" class=\"row_heading level0 row1\" >Male</th>\n",
       "                        <td id=\"T_aa02e4fe_9e06_11eb_a5e9_ac12034bbb98row1_col0\" class=\"data row1 col0\" >484</td>\n",
       "                        <td id=\"T_aa02e4fe_9e06_11eb_a5e9_ac12034bbb98row1_col1\" class=\"data row1 col1\" >84.03%</td>\n",
       "            </tr>\n",
       "            <tr>\n",
       "                        <th id=\"T_aa02e4fe_9e06_11eb_a5e9_ac12034bbb98level0_row2\" class=\"row_heading level0 row2\" >Other / Non-Disclosed</th>\n",
       "                        <td id=\"T_aa02e4fe_9e06_11eb_a5e9_ac12034bbb98row2_col0\" class=\"data row2 col0\" >11</td>\n",
       "                        <td id=\"T_aa02e4fe_9e06_11eb_a5e9_ac12034bbb98row2_col1\" class=\"data row2 col1\" >1.91%</td>\n",
       "            </tr>\n",
       "    </tbody></table>"
      ],
      "text/plain": [
       "<pandas.io.formats.style.Styler at 0x2ddd11c3c50>"
      ]
     },
     "execution_count": 12,
     "metadata": {},
     "output_type": "execute_result"
    }
   ],
   "source": [
    "# create dataframe grouping unique players by Gender\n",
    "gender_count = pd.DataFrame(purchase_data_df.groupby('Gender')['SN'].nunique())\n",
    "\n",
    "# rename column\n",
    "gender_count = gender_count.rename(columns={'SN':'Number of Players'})\n",
    "\n",
    "# add column Percentage and calculate gender percentage\n",
    "gender_count['Percentage Split'] = gender_count['Number of Players'] / sum(gender_count['Number of Players'])\n",
    "\n",
    "# format column Percentage to %\n",
    "format_dict = {'Percentage Split': '{:.2%}'}\n",
    "\n",
    "gender_count.head().style.format(format_dict)"
   ]
  },
  {
   "cell_type": "markdown",
   "metadata": {},
   "source": [
    "\n",
    "## Purchasing Analysis (Gender)"
   ]
  },
  {
   "cell_type": "markdown",
   "metadata": {},
   "source": [
    "* Run basic calculations to obtain purchase count, avg. purchase price, avg. purchase total per person etc. by gender\n",
    "\n",
    "\n",
    "\n",
    "\n",
    "* Create a summary data frame to hold the results\n",
    "\n",
    "\n",
    "* Optional: give the displayed data cleaner formatting\n",
    "\n",
    "\n",
    "* Display the summary data frame"
   ]
  },
  {
   "cell_type": "code",
   "execution_count": 18,
   "metadata": {},
   "outputs": [
    {
     "data": {
      "text/html": [
       "<style  type=\"text/css\" >\n",
       "</style><table id=\"T_ca977e2e_9e06_11eb_8057_ac12034bbb98\" ><thead>    <tr>        <th class=\"blank level0\" ></th>        <th class=\"col_heading level0 col0\" >Number of Players</th>        <th class=\"col_heading level0 col1\" >Purchase Count</th>        <th class=\"col_heading level0 col2\" >Total Purchase Value</th>        <th class=\"col_heading level0 col3\" >Average Purchase Price</th>    </tr>    <tr>        <th class=\"index_name level0\" >Gender</th>        <th class=\"blank\" ></th>        <th class=\"blank\" ></th>        <th class=\"blank\" ></th>        <th class=\"blank\" ></th>    </tr></thead><tbody>\n",
       "                <tr>\n",
       "                        <th id=\"T_ca977e2e_9e06_11eb_8057_ac12034bbb98level0_row0\" class=\"row_heading level0 row0\" >Female</th>\n",
       "                        <td id=\"T_ca977e2e_9e06_11eb_8057_ac12034bbb98row0_col0\" class=\"data row0 col0\" >81</td>\n",
       "                        <td id=\"T_ca977e2e_9e06_11eb_8057_ac12034bbb98row0_col1\" class=\"data row0 col1\" >113</td>\n",
       "                        <td id=\"T_ca977e2e_9e06_11eb_8057_ac12034bbb98row0_col2\" class=\"data row0 col2\" >$361.94</td>\n",
       "                        <td id=\"T_ca977e2e_9e06_11eb_8057_ac12034bbb98row0_col3\" class=\"data row0 col3\" >$4.47</td>\n",
       "            </tr>\n",
       "            <tr>\n",
       "                        <th id=\"T_ca977e2e_9e06_11eb_8057_ac12034bbb98level0_row1\" class=\"row_heading level0 row1\" >Male</th>\n",
       "                        <td id=\"T_ca977e2e_9e06_11eb_8057_ac12034bbb98row1_col0\" class=\"data row1 col0\" >484</td>\n",
       "                        <td id=\"T_ca977e2e_9e06_11eb_8057_ac12034bbb98row1_col1\" class=\"data row1 col1\" >652</td>\n",
       "                        <td id=\"T_ca977e2e_9e06_11eb_8057_ac12034bbb98row1_col2\" class=\"data row1 col2\" >$1,967.64</td>\n",
       "                        <td id=\"T_ca977e2e_9e06_11eb_8057_ac12034bbb98row1_col3\" class=\"data row1 col3\" >$4.07</td>\n",
       "            </tr>\n",
       "            <tr>\n",
       "                        <th id=\"T_ca977e2e_9e06_11eb_8057_ac12034bbb98level0_row2\" class=\"row_heading level0 row2\" >Other / Non-Disclosed</th>\n",
       "                        <td id=\"T_ca977e2e_9e06_11eb_8057_ac12034bbb98row2_col0\" class=\"data row2 col0\" >11</td>\n",
       "                        <td id=\"T_ca977e2e_9e06_11eb_8057_ac12034bbb98row2_col1\" class=\"data row2 col1\" >15</td>\n",
       "                        <td id=\"T_ca977e2e_9e06_11eb_8057_ac12034bbb98row2_col2\" class=\"data row2 col2\" >$50.19</td>\n",
       "                        <td id=\"T_ca977e2e_9e06_11eb_8057_ac12034bbb98row2_col3\" class=\"data row2 col3\" >$4.56</td>\n",
       "            </tr>\n",
       "    </tbody></table>"
      ],
      "text/plain": [
       "<pandas.io.formats.style.Styler at 0x2ddd2348ef0>"
      ]
     },
     "execution_count": 18,
     "metadata": {},
     "output_type": "execute_result"
    }
   ],
   "source": [
    "# create summary dataframe, grouping unique players by Gender\n",
    "purchase_by_gender = pd.DataFrame(purchase_data_df.groupby('Gender')['SN'].nunique())\n",
    "\n",
    "# rename column SN to Number of Players\n",
    "purchase_by_gender = purchase_by_gender.rename(columns={'SN':'Number of Players'})\n",
    "\n",
    "# create new columns for summary dataframe and execute basic calculations for each\n",
    "purchase_by_gender['Purchase Count'] = pd.DataFrame(purchase_data_df.groupby('Gender')['Purchase ID'].count())\n",
    "purchase_by_gender['Total Purchase Value'] = pd.DataFrame(purchase_data_df.groupby('Gender')['Price'].sum())\n",
    "purchase_by_gender['Average Purchase Price'] = (purchase_by_gender[\"Total Purchase Value\"]) / purchase_by_gender[\"Number of Players\"]\n",
    "\n",
    "format_dict = ({'Average Purchase Price': '${:,.2f}',\n",
    "               'Total Purchase Value': '${:,.2f}'})\n",
    "\n",
    "purchase_by_gender.head().style.format(format_dict)"
   ]
  },
  {
   "cell_type": "markdown",
   "metadata": {},
   "source": [
    "## Age Demographics"
   ]
  },
  {
   "cell_type": "markdown",
   "metadata": {},
   "source": [
    "* Establish bins for ages\n",
    "\n",
    "\n",
    "* Categorize the existing players using the age bins. Hint: use pd.cut()\n",
    "\n",
    "\n",
    "* Calculate the numbers and percentages by age group\n",
    "\n",
    "\n",
    "* Create a summary data frame to hold the results\n",
    "\n",
    "\n",
    "* Optional: round the percentage column to two decimal points\n",
    "\n",
    "\n",
    "* Display Age Demographics Table\n"
   ]
  },
  {
   "cell_type": "code",
   "execution_count": 14,
   "metadata": {},
   "outputs": [
    {
     "data": {
      "text/html": [
       "<style  type=\"text/css\" >\n",
       "</style><table id=\"T_aa0b6e9e_9e06_11eb_bd7d_ac12034bbb98\" ><thead>    <tr>        <th class=\"blank level0\" ></th>        <th class=\"col_heading level0 col0\" >Number of Players</th>        <th class=\"col_heading level0 col1\" >Percentage Split</th>    </tr>    <tr>        <th class=\"index_name level0\" >Age</th>        <th class=\"blank\" ></th>        <th class=\"blank\" ></th>    </tr></thead><tbody>\n",
       "                <tr>\n",
       "                        <th id=\"T_aa0b6e9e_9e06_11eb_bd7d_ac12034bbb98level0_row0\" class=\"row_heading level0 row0\" >0-18</th>\n",
       "                        <td id=\"T_aa0b6e9e_9e06_11eb_bd7d_ac12034bbb98row0_col0\" class=\"data row0 col0\" >129</td>\n",
       "                        <td id=\"T_aa0b6e9e_9e06_11eb_bd7d_ac12034bbb98row0_col1\" class=\"data row0 col1\" >22.40%</td>\n",
       "            </tr>\n",
       "            <tr>\n",
       "                        <th id=\"T_aa0b6e9e_9e06_11eb_bd7d_ac12034bbb98level0_row1\" class=\"row_heading level0 row1\" >18-24</th>\n",
       "                        <td id=\"T_aa0b6e9e_9e06_11eb_bd7d_ac12034bbb98row1_col0\" class=\"data row1 col0\" >275</td>\n",
       "                        <td id=\"T_aa0b6e9e_9e06_11eb_bd7d_ac12034bbb98row1_col1\" class=\"data row1 col1\" >47.74%</td>\n",
       "            </tr>\n",
       "            <tr>\n",
       "                        <th id=\"T_aa0b6e9e_9e06_11eb_bd7d_ac12034bbb98level0_row2\" class=\"row_heading level0 row2\" >24-35</th>\n",
       "                        <td id=\"T_aa0b6e9e_9e06_11eb_bd7d_ac12034bbb98row2_col0\" class=\"data row2 col0\" >129</td>\n",
       "                        <td id=\"T_aa0b6e9e_9e06_11eb_bd7d_ac12034bbb98row2_col1\" class=\"data row2 col1\" >22.40%</td>\n",
       "            </tr>\n",
       "            <tr>\n",
       "                        <th id=\"T_aa0b6e9e_9e06_11eb_bd7d_ac12034bbb98level0_row3\" class=\"row_heading level0 row3\" >34-40</th>\n",
       "                        <td id=\"T_aa0b6e9e_9e06_11eb_bd7d_ac12034bbb98row3_col0\" class=\"data row3 col0\" >36</td>\n",
       "                        <td id=\"T_aa0b6e9e_9e06_11eb_bd7d_ac12034bbb98row3_col1\" class=\"data row3 col1\" >6.25%</td>\n",
       "            </tr>\n",
       "            <tr>\n",
       "                        <th id=\"T_aa0b6e9e_9e06_11eb_bd7d_ac12034bbb98level0_row4\" class=\"row_heading level0 row4\" >40+</th>\n",
       "                        <td id=\"T_aa0b6e9e_9e06_11eb_bd7d_ac12034bbb98row4_col0\" class=\"data row4 col0\" >7</td>\n",
       "                        <td id=\"T_aa0b6e9e_9e06_11eb_bd7d_ac12034bbb98row4_col1\" class=\"data row4 col1\" >1.22%</td>\n",
       "            </tr>\n",
       "    </tbody></table>"
      ],
      "text/plain": [
       "<pandas.io.formats.style.Styler at 0x2ddd2300c88>"
      ]
     },
     "execution_count": 14,
     "metadata": {},
     "output_type": "execute_result"
    }
   ],
   "source": [
    "age_demographics_df = converted_purchase_data_df\n",
    "\n",
    "# set bin ranges\n",
    "age_bins = [0,18,24,34,40,99]\n",
    "\n",
    "# names for the five groups\n",
    "age_groups = ['0-18', '18-24', '24-35', '34-40', '40+']\n",
    "\n",
    "# create dataframe with cuts by Age group\n",
    "age_demographics_df['Age'] = pd.cut(age_demographics_df['Age'], age_bins, labels=age_groups)\n",
    "\n",
    "# create summary dataframe, with new column for Age\n",
    "age_df = pd.DataFrame(age_demographics_df.groupby('Age').SN.nunique())\n",
    "\n",
    "# rename column SN to Number of Players\n",
    "age_df = age_df.rename(columns={'SN':'Number of Players'})\n",
    "\n",
    "# create new column, Percentage Split, for the summary dataframe and calculate percentages by age group\n",
    "age_df['Percentage Split'] = age_df['Number of Players'] / sum(age_df['Number of Players'])\n",
    "\n",
    "# format columns $ and two decimal places.\n",
    "format_dict = {'Percentage Split': '{:.2%}'}\n",
    "\n",
    "age_df.head().style.format(format_dict)"
   ]
  },
  {
   "cell_type": "markdown",
   "metadata": {},
   "source": [
    "## Purchasing Analysis (Age)"
   ]
  },
  {
   "cell_type": "markdown",
   "metadata": {},
   "source": [
    "* Bin the purchase_data data frame by age\n",
    "\n",
    "\n",
    "* Run basic calculations to obtain purchase count, avg. purchase price, avg. purchase total per person etc. in the table below\n",
    "\n",
    "\n",
    "* Create a summary data frame to hold the results\n",
    "\n",
    "\n",
    "* Optional: give the displayed data cleaner formatting\n",
    "\n",
    "\n",
    "* Display the summary data frame"
   ]
  },
  {
   "cell_type": "code",
   "execution_count": 15,
   "metadata": {},
   "outputs": [
    {
     "data": {
      "text/html": [
       "<style  type=\"text/css\" >\n",
       "</style><table id=\"T_aa0dddfa_9e06_11eb_89eb_ac12034bbb98\" ><thead>    <tr>        <th class=\"blank level0\" ></th>        <th class=\"col_heading level0 col0\" >Number of Players</th>        <th class=\"col_heading level0 col1\" >Purchase Count</th>        <th class=\"col_heading level0 col2\" >Total Purchase Value</th>        <th class=\"col_heading level0 col3\" >Average Purchase Price</th>    </tr>    <tr>        <th class=\"index_name level0\" >Age</th>        <th class=\"blank\" ></th>        <th class=\"blank\" ></th>        <th class=\"blank\" ></th>        <th class=\"blank\" ></th>    </tr></thead><tbody>\n",
       "                <tr>\n",
       "                        <th id=\"T_aa0dddfa_9e06_11eb_89eb_ac12034bbb98level0_row0\" class=\"row_heading level0 row0\" >0-18</th>\n",
       "                        <td id=\"T_aa0dddfa_9e06_11eb_89eb_ac12034bbb98row0_col0\" class=\"data row0 col0\" >129</td>\n",
       "                        <td id=\"T_aa0dddfa_9e06_11eb_89eb_ac12034bbb98row0_col1\" class=\"data row0 col1\" >164</td>\n",
       "                        <td id=\"T_aa0dddfa_9e06_11eb_89eb_ac12034bbb98row0_col2\" class=\"data row0 col2\" >$502.82</td>\n",
       "                        <td id=\"T_aa0dddfa_9e06_11eb_89eb_ac12034bbb98row0_col3\" class=\"data row0 col3\" >$3.90</td>\n",
       "            </tr>\n",
       "            <tr>\n",
       "                        <th id=\"T_aa0dddfa_9e06_11eb_89eb_ac12034bbb98level0_row1\" class=\"row_heading level0 row1\" >18-24</th>\n",
       "                        <td id=\"T_aa0dddfa_9e06_11eb_89eb_ac12034bbb98row1_col0\" class=\"data row1 col0\" >275</td>\n",
       "                        <td id=\"T_aa0dddfa_9e06_11eb_89eb_ac12034bbb98row1_col1\" class=\"data row1 col1\" >388</td>\n",
       "                        <td id=\"T_aa0dddfa_9e06_11eb_89eb_ac12034bbb98row1_col2\" class=\"data row1 col2\" >$1,184.04</td>\n",
       "                        <td id=\"T_aa0dddfa_9e06_11eb_89eb_ac12034bbb98row1_col3\" class=\"data row1 col3\" >$4.31</td>\n",
       "            </tr>\n",
       "            <tr>\n",
       "                        <th id=\"T_aa0dddfa_9e06_11eb_89eb_ac12034bbb98level0_row2\" class=\"row_heading level0 row2\" >24-35</th>\n",
       "                        <td id=\"T_aa0dddfa_9e06_11eb_89eb_ac12034bbb98row2_col0\" class=\"data row2 col0\" >129</td>\n",
       "                        <td id=\"T_aa0dddfa_9e06_11eb_89eb_ac12034bbb98row2_col1\" class=\"data row2 col1\" >174</td>\n",
       "                        <td id=\"T_aa0dddfa_9e06_11eb_89eb_ac12034bbb98row2_col2\" class=\"data row2 col2\" >$507.00</td>\n",
       "                        <td id=\"T_aa0dddfa_9e06_11eb_89eb_ac12034bbb98row2_col3\" class=\"data row2 col3\" >$3.93</td>\n",
       "            </tr>\n",
       "            <tr>\n",
       "                        <th id=\"T_aa0dddfa_9e06_11eb_89eb_ac12034bbb98level0_row3\" class=\"row_heading level0 row3\" >34-40</th>\n",
       "                        <td id=\"T_aa0dddfa_9e06_11eb_89eb_ac12034bbb98row3_col0\" class=\"data row3 col0\" >36</td>\n",
       "                        <td id=\"T_aa0dddfa_9e06_11eb_89eb_ac12034bbb98row3_col1\" class=\"data row3 col1\" >47</td>\n",
       "                        <td id=\"T_aa0dddfa_9e06_11eb_89eb_ac12034bbb98row3_col2\" class=\"data row3 col2\" >$164.38</td>\n",
       "                        <td id=\"T_aa0dddfa_9e06_11eb_89eb_ac12034bbb98row3_col3\" class=\"data row3 col3\" >$4.57</td>\n",
       "            </tr>\n",
       "            <tr>\n",
       "                        <th id=\"T_aa0dddfa_9e06_11eb_89eb_ac12034bbb98level0_row4\" class=\"row_heading level0 row4\" >40+</th>\n",
       "                        <td id=\"T_aa0dddfa_9e06_11eb_89eb_ac12034bbb98row4_col0\" class=\"data row4 col0\" >7</td>\n",
       "                        <td id=\"T_aa0dddfa_9e06_11eb_89eb_ac12034bbb98row4_col1\" class=\"data row4 col1\" >7</td>\n",
       "                        <td id=\"T_aa0dddfa_9e06_11eb_89eb_ac12034bbb98row4_col2\" class=\"data row4 col2\" >$21.53</td>\n",
       "                        <td id=\"T_aa0dddfa_9e06_11eb_89eb_ac12034bbb98row4_col3\" class=\"data row4 col3\" >$3.08</td>\n",
       "            </tr>\n",
       "    </tbody></table>"
      ],
      "text/plain": [
       "<pandas.io.formats.style.Styler at 0x2ddd23489e8>"
      ]
     },
     "execution_count": 15,
     "metadata": {},
     "output_type": "execute_result"
    }
   ],
   "source": [
    "### Note fix calcuations in new column. Avg purchase price id dependent upon completion of prior line, else it will note work\n",
    "\n",
    "age_purchase_df = purchase_data_df\n",
    "\n",
    "# *set bin ranges\n",
    "age_bins = [0,18,24,34,40,99]\n",
    "\n",
    "# *names for the five groups\n",
    "age_groups = ['0-18', '18-24', '24-35', '34-40', '40+']\n",
    "\n",
    "# *create dataframe with cuts by Age group\n",
    "age_purchase_df['Age'] = pd.cut(age_purchase_df['Age'], age_bins, labels=age_groups)\n",
    "\n",
    "# create summary dataframe, with new column for Age\n",
    "age_df = pd.DataFrame(age_purchase_df.groupby('Age').SN.nunique())\n",
    "\n",
    "# rename column SN to Number of Players\n",
    "age_df = age_df.rename(columns={'SN':'Number of Players'})\n",
    "\n",
    "# create new columns for summary dataframe and execute basic calculations for each\n",
    "age_df['Purchase Count'] = pd.DataFrame(purchase_data_df.groupby('Age')['Purchase ID'].count())\n",
    "age_df['Total Purchase Value'] = pd.DataFrame(purchase_data_df.groupby('Age')['Price'].sum())\n",
    "age_df['Average Purchase Price'] = (age_df[\"Total Purchase Value\"]) / age_df[\"Number of Players\"]\n",
    "\n",
    "format_dict = ({'Average Purchase Price': '${:,.2f}',\n",
    "               'Total Purchase Value': '${:,.2f}'})\n",
    "\n",
    "age_df.head().style.format(format_dict)"
   ]
  },
  {
   "cell_type": "markdown",
   "metadata": {},
   "source": [
    "## Top Spenders"
   ]
  },
  {
   "cell_type": "markdown",
   "metadata": {},
   "source": [
    "* Run basic calculations to obtain the results in the table below\n",
    "\n",
    "\n",
    "* Create a summary data frame to hold the results\n",
    "\n",
    "\n",
    "* Sort the total purchase value column in descending order\n",
    "\n",
    "\n",
    "* Optional: give the displayed data cleaner formatting\n",
    "\n",
    "\n",
    "* Display a preview of the summary data frame\n",
    "\n"
   ]
  },
  {
   "cell_type": "code",
   "execution_count": 16,
   "metadata": {},
   "outputs": [
    {
     "data": {
      "text/html": [
       "<style  type=\"text/css\" >\n",
       "</style><table id=\"T_aa125f40_9e06_11eb_b549_ac12034bbb98\" ><thead>    <tr>        <th class=\"blank level0\" ></th>        <th class=\"col_heading level0 col0\" >Purchase Count</th>        <th class=\"col_heading level0 col1\" >Total Purchase Value</th>        <th class=\"col_heading level0 col2\" >Average Purchase Price</th>    </tr>    <tr>        <th class=\"index_name level0\" >SN</th>        <th class=\"blank\" ></th>        <th class=\"blank\" ></th>        <th class=\"blank\" ></th>    </tr></thead><tbody>\n",
       "                <tr>\n",
       "                        <th id=\"T_aa125f40_9e06_11eb_b549_ac12034bbb98level0_row0\" class=\"row_heading level0 row0\" >Lisosia93</th>\n",
       "                        <td id=\"T_aa125f40_9e06_11eb_b549_ac12034bbb98row0_col0\" class=\"data row0 col0\" >5</td>\n",
       "                        <td id=\"T_aa125f40_9e06_11eb_b549_ac12034bbb98row0_col1\" class=\"data row0 col1\" >$18.96</td>\n",
       "                        <td id=\"T_aa125f40_9e06_11eb_b549_ac12034bbb98row0_col2\" class=\"data row0 col2\" >$3.79</td>\n",
       "            </tr>\n",
       "            <tr>\n",
       "                        <th id=\"T_aa125f40_9e06_11eb_b549_ac12034bbb98level0_row1\" class=\"row_heading level0 row1\" >Idastidru52</th>\n",
       "                        <td id=\"T_aa125f40_9e06_11eb_b549_ac12034bbb98row1_col0\" class=\"data row1 col0\" >4</td>\n",
       "                        <td id=\"T_aa125f40_9e06_11eb_b549_ac12034bbb98row1_col1\" class=\"data row1 col1\" >$15.45</td>\n",
       "                        <td id=\"T_aa125f40_9e06_11eb_b549_ac12034bbb98row1_col2\" class=\"data row1 col2\" >$3.86</td>\n",
       "            </tr>\n",
       "            <tr>\n",
       "                        <th id=\"T_aa125f40_9e06_11eb_b549_ac12034bbb98level0_row2\" class=\"row_heading level0 row2\" >Iral74</th>\n",
       "                        <td id=\"T_aa125f40_9e06_11eb_b549_ac12034bbb98row2_col0\" class=\"data row2 col0\" >4</td>\n",
       "                        <td id=\"T_aa125f40_9e06_11eb_b549_ac12034bbb98row2_col1\" class=\"data row2 col1\" >$13.62</td>\n",
       "                        <td id=\"T_aa125f40_9e06_11eb_b549_ac12034bbb98row2_col2\" class=\"data row2 col2\" >$3.40</td>\n",
       "            </tr>\n",
       "            <tr>\n",
       "                        <th id=\"T_aa125f40_9e06_11eb_b549_ac12034bbb98level0_row3\" class=\"row_heading level0 row3\" >Aelin32</th>\n",
       "                        <td id=\"T_aa125f40_9e06_11eb_b549_ac12034bbb98row3_col0\" class=\"data row3 col0\" >3</td>\n",
       "                        <td id=\"T_aa125f40_9e06_11eb_b549_ac12034bbb98row3_col1\" class=\"data row3 col1\" >$8.98</td>\n",
       "                        <td id=\"T_aa125f40_9e06_11eb_b549_ac12034bbb98row3_col2\" class=\"data row3 col2\" >$2.99</td>\n",
       "            </tr>\n",
       "            <tr>\n",
       "                        <th id=\"T_aa125f40_9e06_11eb_b549_ac12034bbb98level0_row4\" class=\"row_heading level0 row4\" >Aina42</th>\n",
       "                        <td id=\"T_aa125f40_9e06_11eb_b549_ac12034bbb98row4_col0\" class=\"data row4 col0\" >3</td>\n",
       "                        <td id=\"T_aa125f40_9e06_11eb_b549_ac12034bbb98row4_col1\" class=\"data row4 col1\" >$9.22</td>\n",
       "                        <td id=\"T_aa125f40_9e06_11eb_b549_ac12034bbb98row4_col2\" class=\"data row4 col2\" >$3.07</td>\n",
       "            </tr>\n",
       "    </tbody></table>"
      ],
      "text/plain": [
       "<pandas.io.formats.style.Styler at 0x2ddd1199b38>"
      ]
     },
     "execution_count": 16,
     "metadata": {},
     "output_type": "execute_result"
    }
   ],
   "source": [
    "# create summary dataframe, grouping unique players by SN\n",
    "top_spender = pd.DataFrame(purchase_data_df.groupby('SN')['Purchase ID'].count())\n",
    "\n",
    "# rename column Purchase ID to Purchase Count\n",
    "top_spender = top_spender.rename(columns={'Purchase ID':'Purchase Count'})\n",
    "\n",
    "# create new columns for summary dataframe and execute basic calculations for each\n",
    "top_spender['Total Purchase Value'] = pd.DataFrame(purchase_data_df.groupby('SN')['Price'].sum())\n",
    "top_spender['Average Purchase Price'] = (top_spender[\"Total Purchase Value\"]) / top_spender[\"Purchase Count\"]\n",
    "\n",
    "# get nlargest values from Purchase count\n",
    "top_spender = top_spender.nlargest(5, 'Purchase Count')\n",
    "\n",
    "format_dict = ({'Average Purchase Price': '${:,.2f}',\n",
    "               'Total Purchase Value': '${:,.2f}'})\n",
    "\n",
    "top_spender.head().style.format(format_dict)"
   ]
  },
  {
   "cell_type": "markdown",
   "metadata": {},
   "source": [
    "## Most Popular Items"
   ]
  },
  {
   "cell_type": "markdown",
   "metadata": {},
   "source": [
    "* Retrieve the Item ID, Item Name, and Item Price columns\n",
    "\n",
    "\n",
    "* Group by Item ID and Item Name. Perform calculations to obtain purchase count, average item price, and total purchase value\n",
    "\n",
    "\n",
    "* Create a summary data frame to hold the results\n",
    "\n",
    "\n",
    "* Sort the purchase count column in descending order\n",
    "\n",
    "\n",
    "* Optional: give the displayed data cleaner formatting\n",
    "\n",
    "\n",
    "* Display a preview of the summary data frame\n",
    "\n"
   ]
  },
  {
   "cell_type": "code",
   "execution_count": 31,
   "metadata": {},
   "outputs": [
    {
     "ename": "ValueError",
     "evalue": "Wrong number of items passed 2, placement implies 1",
     "output_type": "error",
     "traceback": [
      "\u001b[1;31m---------------------------------------------------------------------------\u001b[0m",
      "\u001b[1;31mKeyError\u001b[0m                                  Traceback (most recent call last)",
      "\u001b[1;32m~\\anaconda3\\envs\\PythonData\\lib\\site-packages\\pandas\\core\\indexes\\base.py\u001b[0m in \u001b[0;36mget_loc\u001b[1;34m(self, key, method, tolerance)\u001b[0m\n\u001b[0;32m   2645\u001b[0m             \u001b[1;32mtry\u001b[0m\u001b[1;33m:\u001b[0m\u001b[1;33m\u001b[0m\u001b[1;33m\u001b[0m\u001b[0m\n\u001b[1;32m-> 2646\u001b[1;33m                 \u001b[1;32mreturn\u001b[0m \u001b[0mself\u001b[0m\u001b[1;33m.\u001b[0m\u001b[0m_engine\u001b[0m\u001b[1;33m.\u001b[0m\u001b[0mget_loc\u001b[0m\u001b[1;33m(\u001b[0m\u001b[0mkey\u001b[0m\u001b[1;33m)\u001b[0m\u001b[1;33m\u001b[0m\u001b[1;33m\u001b[0m\u001b[0m\n\u001b[0m\u001b[0;32m   2647\u001b[0m             \u001b[1;32mexcept\u001b[0m \u001b[0mKeyError\u001b[0m\u001b[1;33m:\u001b[0m\u001b[1;33m\u001b[0m\u001b[1;33m\u001b[0m\u001b[0m\n",
      "\u001b[1;32mpandas\\_libs\\index.pyx\u001b[0m in \u001b[0;36mpandas._libs.index.IndexEngine.get_loc\u001b[1;34m()\u001b[0m\n",
      "\u001b[1;32mpandas\\_libs\\index.pyx\u001b[0m in \u001b[0;36mpandas._libs.index.IndexEngine.get_loc\u001b[1;34m()\u001b[0m\n",
      "\u001b[1;32mpandas\\_libs\\hashtable_class_helper.pxi\u001b[0m in \u001b[0;36mpandas._libs.hashtable.PyObjectHashTable.get_item\u001b[1;34m()\u001b[0m\n",
      "\u001b[1;32mpandas\\_libs\\hashtable_class_helper.pxi\u001b[0m in \u001b[0;36mpandas._libs.hashtable.PyObjectHashTable.get_item\u001b[1;34m()\u001b[0m\n",
      "\u001b[1;31mKeyError\u001b[0m: 'Item ID'",
      "\nDuring handling of the above exception, another exception occurred:\n",
      "\u001b[1;31mKeyError\u001b[0m                                  Traceback (most recent call last)",
      "\u001b[1;32m~\\anaconda3\\envs\\PythonData\\lib\\site-packages\\pandas\\core\\internals\\managers.py\u001b[0m in \u001b[0;36mset\u001b[1;34m(self, item, value)\u001b[0m\n\u001b[0;32m   1070\u001b[0m         \u001b[1;32mtry\u001b[0m\u001b[1;33m:\u001b[0m\u001b[1;33m\u001b[0m\u001b[1;33m\u001b[0m\u001b[0m\n\u001b[1;32m-> 1071\u001b[1;33m             \u001b[0mloc\u001b[0m \u001b[1;33m=\u001b[0m \u001b[0mself\u001b[0m\u001b[1;33m.\u001b[0m\u001b[0mitems\u001b[0m\u001b[1;33m.\u001b[0m\u001b[0mget_loc\u001b[0m\u001b[1;33m(\u001b[0m\u001b[0mitem\u001b[0m\u001b[1;33m)\u001b[0m\u001b[1;33m\u001b[0m\u001b[1;33m\u001b[0m\u001b[0m\n\u001b[0m\u001b[0;32m   1072\u001b[0m         \u001b[1;32mexcept\u001b[0m \u001b[0mKeyError\u001b[0m\u001b[1;33m:\u001b[0m\u001b[1;33m\u001b[0m\u001b[1;33m\u001b[0m\u001b[0m\n",
      "\u001b[1;32m~\\anaconda3\\envs\\PythonData\\lib\\site-packages\\pandas\\core\\indexes\\base.py\u001b[0m in \u001b[0;36mget_loc\u001b[1;34m(self, key, method, tolerance)\u001b[0m\n\u001b[0;32m   2647\u001b[0m             \u001b[1;32mexcept\u001b[0m \u001b[0mKeyError\u001b[0m\u001b[1;33m:\u001b[0m\u001b[1;33m\u001b[0m\u001b[1;33m\u001b[0m\u001b[0m\n\u001b[1;32m-> 2648\u001b[1;33m                 \u001b[1;32mreturn\u001b[0m \u001b[0mself\u001b[0m\u001b[1;33m.\u001b[0m\u001b[0m_engine\u001b[0m\u001b[1;33m.\u001b[0m\u001b[0mget_loc\u001b[0m\u001b[1;33m(\u001b[0m\u001b[0mself\u001b[0m\u001b[1;33m.\u001b[0m\u001b[0m_maybe_cast_indexer\u001b[0m\u001b[1;33m(\u001b[0m\u001b[0mkey\u001b[0m\u001b[1;33m)\u001b[0m\u001b[1;33m)\u001b[0m\u001b[1;33m\u001b[0m\u001b[1;33m\u001b[0m\u001b[0m\n\u001b[0m\u001b[0;32m   2649\u001b[0m         \u001b[0mindexer\u001b[0m \u001b[1;33m=\u001b[0m \u001b[0mself\u001b[0m\u001b[1;33m.\u001b[0m\u001b[0mget_indexer\u001b[0m\u001b[1;33m(\u001b[0m\u001b[1;33m[\u001b[0m\u001b[0mkey\u001b[0m\u001b[1;33m]\u001b[0m\u001b[1;33m,\u001b[0m \u001b[0mmethod\u001b[0m\u001b[1;33m=\u001b[0m\u001b[0mmethod\u001b[0m\u001b[1;33m,\u001b[0m \u001b[0mtolerance\u001b[0m\u001b[1;33m=\u001b[0m\u001b[0mtolerance\u001b[0m\u001b[1;33m)\u001b[0m\u001b[1;33m\u001b[0m\u001b[1;33m\u001b[0m\u001b[0m\n",
      "\u001b[1;32mpandas\\_libs\\index.pyx\u001b[0m in \u001b[0;36mpandas._libs.index.IndexEngine.get_loc\u001b[1;34m()\u001b[0m\n",
      "\u001b[1;32mpandas\\_libs\\index.pyx\u001b[0m in \u001b[0;36mpandas._libs.index.IndexEngine.get_loc\u001b[1;34m()\u001b[0m\n",
      "\u001b[1;32mpandas\\_libs\\hashtable_class_helper.pxi\u001b[0m in \u001b[0;36mpandas._libs.hashtable.PyObjectHashTable.get_item\u001b[1;34m()\u001b[0m\n",
      "\u001b[1;32mpandas\\_libs\\hashtable_class_helper.pxi\u001b[0m in \u001b[0;36mpandas._libs.hashtable.PyObjectHashTable.get_item\u001b[1;34m()\u001b[0m\n",
      "\u001b[1;31mKeyError\u001b[0m: 'Item ID'",
      "\nDuring handling of the above exception, another exception occurred:\n",
      "\u001b[1;31mValueError\u001b[0m                                Traceback (most recent call last)",
      "\u001b[1;32m<ipython-input-31-189284ee5c53>\u001b[0m in \u001b[0;36m<module>\u001b[1;34m\u001b[0m\n\u001b[0;32m     12\u001b[0m \u001b[1;33m\u001b[0m\u001b[0m\n\u001b[0;32m     13\u001b[0m \u001b[1;31m# create new columns for summary dataframe and execute basic calculations for each\u001b[0m\u001b[1;33m\u001b[0m\u001b[1;33m\u001b[0m\u001b[1;33m\u001b[0m\u001b[0m\n\u001b[1;32m---> 14\u001b[1;33m \u001b[0mpopular_items\u001b[0m\u001b[1;33m[\u001b[0m\u001b[1;34m'Item ID'\u001b[0m\u001b[1;33m]\u001b[0m \u001b[1;33m=\u001b[0m \u001b[0mpd\u001b[0m\u001b[1;33m.\u001b[0m\u001b[0mDataFrame\u001b[0m\u001b[1;33m(\u001b[0m\u001b[0mpurchase_data_df\u001b[0m\u001b[1;33m.\u001b[0m\u001b[0mgroupby\u001b[0m\u001b[1;33m(\u001b[0m\u001b[1;34m'Item ID'\u001b[0m\u001b[1;33m)\u001b[0m\u001b[1;33m)\u001b[0m\u001b[1;33m\u001b[0m\u001b[1;33m\u001b[0m\u001b[0m\n\u001b[0m\u001b[0;32m     15\u001b[0m \u001b[0mpopular_items\u001b[0m\u001b[1;33m[\u001b[0m\u001b[1;34m'Total Purchase Value'\u001b[0m\u001b[1;33m]\u001b[0m \u001b[1;33m=\u001b[0m \u001b[0mpd\u001b[0m\u001b[1;33m.\u001b[0m\u001b[0mDataFrame\u001b[0m\u001b[1;33m(\u001b[0m\u001b[0mpurchase_data_df\u001b[0m\u001b[1;33m.\u001b[0m\u001b[0mgroupby\u001b[0m\u001b[1;33m(\u001b[0m\u001b[1;34m'Item Name'\u001b[0m\u001b[1;33m)\u001b[0m\u001b[1;33m[\u001b[0m\u001b[1;34m'Price'\u001b[0m\u001b[1;33m]\u001b[0m\u001b[1;33m.\u001b[0m\u001b[0msum\u001b[0m\u001b[1;33m(\u001b[0m\u001b[1;33m)\u001b[0m\u001b[1;33m)\u001b[0m\u001b[1;33m\u001b[0m\u001b[1;33m\u001b[0m\u001b[0m\n\u001b[0;32m     16\u001b[0m \u001b[0mpopular_items\u001b[0m\u001b[1;33m[\u001b[0m\u001b[1;34m'Item Price'\u001b[0m\u001b[1;33m]\u001b[0m \u001b[1;33m=\u001b[0m \u001b[1;33m(\u001b[0m\u001b[0mpopular_items\u001b[0m\u001b[1;33m[\u001b[0m\u001b[1;34m'Total Purchase Value'\u001b[0m\u001b[1;33m]\u001b[0m\u001b[1;33m)\u001b[0m \u001b[1;33m/\u001b[0m \u001b[0mpopular_items\u001b[0m\u001b[1;33m[\u001b[0m\u001b[1;34m\"Purchase Count\"\u001b[0m\u001b[1;33m]\u001b[0m\u001b[1;33m\u001b[0m\u001b[1;33m\u001b[0m\u001b[0m\n",
      "\u001b[1;32m~\\anaconda3\\envs\\PythonData\\lib\\site-packages\\pandas\\core\\frame.py\u001b[0m in \u001b[0;36m__setitem__\u001b[1;34m(self, key, value)\u001b[0m\n\u001b[0;32m   2936\u001b[0m         \u001b[1;32melse\u001b[0m\u001b[1;33m:\u001b[0m\u001b[1;33m\u001b[0m\u001b[1;33m\u001b[0m\u001b[0m\n\u001b[0;32m   2937\u001b[0m             \u001b[1;31m# set column\u001b[0m\u001b[1;33m\u001b[0m\u001b[1;33m\u001b[0m\u001b[1;33m\u001b[0m\u001b[0m\n\u001b[1;32m-> 2938\u001b[1;33m             \u001b[0mself\u001b[0m\u001b[1;33m.\u001b[0m\u001b[0m_set_item\u001b[0m\u001b[1;33m(\u001b[0m\u001b[0mkey\u001b[0m\u001b[1;33m,\u001b[0m \u001b[0mvalue\u001b[0m\u001b[1;33m)\u001b[0m\u001b[1;33m\u001b[0m\u001b[1;33m\u001b[0m\u001b[0m\n\u001b[0m\u001b[0;32m   2939\u001b[0m \u001b[1;33m\u001b[0m\u001b[0m\n\u001b[0;32m   2940\u001b[0m     \u001b[1;32mdef\u001b[0m \u001b[0m_setitem_slice\u001b[0m\u001b[1;33m(\u001b[0m\u001b[0mself\u001b[0m\u001b[1;33m,\u001b[0m \u001b[0mkey\u001b[0m\u001b[1;33m,\u001b[0m \u001b[0mvalue\u001b[0m\u001b[1;33m)\u001b[0m\u001b[1;33m:\u001b[0m\u001b[1;33m\u001b[0m\u001b[1;33m\u001b[0m\u001b[0m\n",
      "\u001b[1;32m~\\anaconda3\\envs\\PythonData\\lib\\site-packages\\pandas\\core\\frame.py\u001b[0m in \u001b[0;36m_set_item\u001b[1;34m(self, key, value)\u001b[0m\n\u001b[0;32m   2999\u001b[0m         \u001b[0mself\u001b[0m\u001b[1;33m.\u001b[0m\u001b[0m_ensure_valid_index\u001b[0m\u001b[1;33m(\u001b[0m\u001b[0mvalue\u001b[0m\u001b[1;33m)\u001b[0m\u001b[1;33m\u001b[0m\u001b[1;33m\u001b[0m\u001b[0m\n\u001b[0;32m   3000\u001b[0m         \u001b[0mvalue\u001b[0m \u001b[1;33m=\u001b[0m \u001b[0mself\u001b[0m\u001b[1;33m.\u001b[0m\u001b[0m_sanitize_column\u001b[0m\u001b[1;33m(\u001b[0m\u001b[0mkey\u001b[0m\u001b[1;33m,\u001b[0m \u001b[0mvalue\u001b[0m\u001b[1;33m)\u001b[0m\u001b[1;33m\u001b[0m\u001b[1;33m\u001b[0m\u001b[0m\n\u001b[1;32m-> 3001\u001b[1;33m         \u001b[0mNDFrame\u001b[0m\u001b[1;33m.\u001b[0m\u001b[0m_set_item\u001b[0m\u001b[1;33m(\u001b[0m\u001b[0mself\u001b[0m\u001b[1;33m,\u001b[0m \u001b[0mkey\u001b[0m\u001b[1;33m,\u001b[0m \u001b[0mvalue\u001b[0m\u001b[1;33m)\u001b[0m\u001b[1;33m\u001b[0m\u001b[1;33m\u001b[0m\u001b[0m\n\u001b[0m\u001b[0;32m   3002\u001b[0m \u001b[1;33m\u001b[0m\u001b[0m\n\u001b[0;32m   3003\u001b[0m         \u001b[1;31m# check if we are modifying a copy\u001b[0m\u001b[1;33m\u001b[0m\u001b[1;33m\u001b[0m\u001b[1;33m\u001b[0m\u001b[0m\n",
      "\u001b[1;32m~\\anaconda3\\envs\\PythonData\\lib\\site-packages\\pandas\\core\\generic.py\u001b[0m in \u001b[0;36m_set_item\u001b[1;34m(self, key, value)\u001b[0m\n\u001b[0;32m   3622\u001b[0m \u001b[1;33m\u001b[0m\u001b[0m\n\u001b[0;32m   3623\u001b[0m     \u001b[1;32mdef\u001b[0m \u001b[0m_set_item\u001b[0m\u001b[1;33m(\u001b[0m\u001b[0mself\u001b[0m\u001b[1;33m,\u001b[0m \u001b[0mkey\u001b[0m\u001b[1;33m,\u001b[0m \u001b[0mvalue\u001b[0m\u001b[1;33m)\u001b[0m \u001b[1;33m->\u001b[0m \u001b[1;32mNone\u001b[0m\u001b[1;33m:\u001b[0m\u001b[1;33m\u001b[0m\u001b[1;33m\u001b[0m\u001b[0m\n\u001b[1;32m-> 3624\u001b[1;33m         \u001b[0mself\u001b[0m\u001b[1;33m.\u001b[0m\u001b[0m_data\u001b[0m\u001b[1;33m.\u001b[0m\u001b[0mset\u001b[0m\u001b[1;33m(\u001b[0m\u001b[0mkey\u001b[0m\u001b[1;33m,\u001b[0m \u001b[0mvalue\u001b[0m\u001b[1;33m)\u001b[0m\u001b[1;33m\u001b[0m\u001b[1;33m\u001b[0m\u001b[0m\n\u001b[0m\u001b[0;32m   3625\u001b[0m         \u001b[0mself\u001b[0m\u001b[1;33m.\u001b[0m\u001b[0m_clear_item_cache\u001b[0m\u001b[1;33m(\u001b[0m\u001b[1;33m)\u001b[0m\u001b[1;33m\u001b[0m\u001b[1;33m\u001b[0m\u001b[0m\n\u001b[0;32m   3626\u001b[0m \u001b[1;33m\u001b[0m\u001b[0m\n",
      "\u001b[1;32m~\\anaconda3\\envs\\PythonData\\lib\\site-packages\\pandas\\core\\internals\\managers.py\u001b[0m in \u001b[0;36mset\u001b[1;34m(self, item, value)\u001b[0m\n\u001b[0;32m   1072\u001b[0m         \u001b[1;32mexcept\u001b[0m \u001b[0mKeyError\u001b[0m\u001b[1;33m:\u001b[0m\u001b[1;33m\u001b[0m\u001b[1;33m\u001b[0m\u001b[0m\n\u001b[0;32m   1073\u001b[0m             \u001b[1;31m# This item wasn't present, just insert at end\u001b[0m\u001b[1;33m\u001b[0m\u001b[1;33m\u001b[0m\u001b[1;33m\u001b[0m\u001b[0m\n\u001b[1;32m-> 1074\u001b[1;33m             \u001b[0mself\u001b[0m\u001b[1;33m.\u001b[0m\u001b[0minsert\u001b[0m\u001b[1;33m(\u001b[0m\u001b[0mlen\u001b[0m\u001b[1;33m(\u001b[0m\u001b[0mself\u001b[0m\u001b[1;33m.\u001b[0m\u001b[0mitems\u001b[0m\u001b[1;33m)\u001b[0m\u001b[1;33m,\u001b[0m \u001b[0mitem\u001b[0m\u001b[1;33m,\u001b[0m \u001b[0mvalue\u001b[0m\u001b[1;33m)\u001b[0m\u001b[1;33m\u001b[0m\u001b[1;33m\u001b[0m\u001b[0m\n\u001b[0m\u001b[0;32m   1075\u001b[0m             \u001b[1;32mreturn\u001b[0m\u001b[1;33m\u001b[0m\u001b[1;33m\u001b[0m\u001b[0m\n\u001b[0;32m   1076\u001b[0m \u001b[1;33m\u001b[0m\u001b[0m\n",
      "\u001b[1;32m~\\anaconda3\\envs\\PythonData\\lib\\site-packages\\pandas\\core\\internals\\managers.py\u001b[0m in \u001b[0;36minsert\u001b[1;34m(self, loc, item, value, allow_duplicates)\u001b[0m\n\u001b[0;32m   1179\u001b[0m         \u001b[0mnew_axis\u001b[0m \u001b[1;33m=\u001b[0m \u001b[0mself\u001b[0m\u001b[1;33m.\u001b[0m\u001b[0mitems\u001b[0m\u001b[1;33m.\u001b[0m\u001b[0minsert\u001b[0m\u001b[1;33m(\u001b[0m\u001b[0mloc\u001b[0m\u001b[1;33m,\u001b[0m \u001b[0mitem\u001b[0m\u001b[1;33m)\u001b[0m\u001b[1;33m\u001b[0m\u001b[1;33m\u001b[0m\u001b[0m\n\u001b[0;32m   1180\u001b[0m \u001b[1;33m\u001b[0m\u001b[0m\n\u001b[1;32m-> 1181\u001b[1;33m         \u001b[0mblock\u001b[0m \u001b[1;33m=\u001b[0m \u001b[0mmake_block\u001b[0m\u001b[1;33m(\u001b[0m\u001b[0mvalues\u001b[0m\u001b[1;33m=\u001b[0m\u001b[0mvalue\u001b[0m\u001b[1;33m,\u001b[0m \u001b[0mndim\u001b[0m\u001b[1;33m=\u001b[0m\u001b[0mself\u001b[0m\u001b[1;33m.\u001b[0m\u001b[0mndim\u001b[0m\u001b[1;33m,\u001b[0m \u001b[0mplacement\u001b[0m\u001b[1;33m=\u001b[0m\u001b[0mslice\u001b[0m\u001b[1;33m(\u001b[0m\u001b[0mloc\u001b[0m\u001b[1;33m,\u001b[0m \u001b[0mloc\u001b[0m \u001b[1;33m+\u001b[0m \u001b[1;36m1\u001b[0m\u001b[1;33m)\u001b[0m\u001b[1;33m)\u001b[0m\u001b[1;33m\u001b[0m\u001b[1;33m\u001b[0m\u001b[0m\n\u001b[0m\u001b[0;32m   1182\u001b[0m \u001b[1;33m\u001b[0m\u001b[0m\n\u001b[0;32m   1183\u001b[0m         \u001b[1;32mfor\u001b[0m \u001b[0mblkno\u001b[0m\u001b[1;33m,\u001b[0m \u001b[0mcount\u001b[0m \u001b[1;32min\u001b[0m \u001b[0m_fast_count_smallints\u001b[0m\u001b[1;33m(\u001b[0m\u001b[0mself\u001b[0m\u001b[1;33m.\u001b[0m\u001b[0m_blknos\u001b[0m\u001b[1;33m[\u001b[0m\u001b[0mloc\u001b[0m\u001b[1;33m:\u001b[0m\u001b[1;33m]\u001b[0m\u001b[1;33m)\u001b[0m\u001b[1;33m:\u001b[0m\u001b[1;33m\u001b[0m\u001b[1;33m\u001b[0m\u001b[0m\n",
      "\u001b[1;32m~\\anaconda3\\envs\\PythonData\\lib\\site-packages\\pandas\\core\\internals\\blocks.py\u001b[0m in \u001b[0;36mmake_block\u001b[1;34m(values, placement, klass, ndim, dtype)\u001b[0m\n\u001b[0;32m   3051\u001b[0m         \u001b[0mvalues\u001b[0m \u001b[1;33m=\u001b[0m \u001b[0mDatetimeArray\u001b[0m\u001b[1;33m.\u001b[0m\u001b[0m_simple_new\u001b[0m\u001b[1;33m(\u001b[0m\u001b[0mvalues\u001b[0m\u001b[1;33m,\u001b[0m \u001b[0mdtype\u001b[0m\u001b[1;33m=\u001b[0m\u001b[0mdtype\u001b[0m\u001b[1;33m)\u001b[0m\u001b[1;33m\u001b[0m\u001b[1;33m\u001b[0m\u001b[0m\n\u001b[0;32m   3052\u001b[0m \u001b[1;33m\u001b[0m\u001b[0m\n\u001b[1;32m-> 3053\u001b[1;33m     \u001b[1;32mreturn\u001b[0m \u001b[0mklass\u001b[0m\u001b[1;33m(\u001b[0m\u001b[0mvalues\u001b[0m\u001b[1;33m,\u001b[0m \u001b[0mndim\u001b[0m\u001b[1;33m=\u001b[0m\u001b[0mndim\u001b[0m\u001b[1;33m,\u001b[0m \u001b[0mplacement\u001b[0m\u001b[1;33m=\u001b[0m\u001b[0mplacement\u001b[0m\u001b[1;33m)\u001b[0m\u001b[1;33m\u001b[0m\u001b[1;33m\u001b[0m\u001b[0m\n\u001b[0m\u001b[0;32m   3054\u001b[0m \u001b[1;33m\u001b[0m\u001b[0m\n\u001b[0;32m   3055\u001b[0m \u001b[1;33m\u001b[0m\u001b[0m\n",
      "\u001b[1;32m~\\anaconda3\\envs\\PythonData\\lib\\site-packages\\pandas\\core\\internals\\blocks.py\u001b[0m in \u001b[0;36m__init__\u001b[1;34m(self, values, placement, ndim)\u001b[0m\n\u001b[0;32m   2599\u001b[0m             \u001b[0mvalues\u001b[0m \u001b[1;33m=\u001b[0m \u001b[0mnp\u001b[0m\u001b[1;33m.\u001b[0m\u001b[0marray\u001b[0m\u001b[1;33m(\u001b[0m\u001b[0mvalues\u001b[0m\u001b[1;33m,\u001b[0m \u001b[0mdtype\u001b[0m\u001b[1;33m=\u001b[0m\u001b[0mobject\u001b[0m\u001b[1;33m)\u001b[0m\u001b[1;33m\u001b[0m\u001b[1;33m\u001b[0m\u001b[0m\n\u001b[0;32m   2600\u001b[0m \u001b[1;33m\u001b[0m\u001b[0m\n\u001b[1;32m-> 2601\u001b[1;33m         \u001b[0msuper\u001b[0m\u001b[1;33m(\u001b[0m\u001b[1;33m)\u001b[0m\u001b[1;33m.\u001b[0m\u001b[0m__init__\u001b[0m\u001b[1;33m(\u001b[0m\u001b[0mvalues\u001b[0m\u001b[1;33m,\u001b[0m \u001b[0mndim\u001b[0m\u001b[1;33m=\u001b[0m\u001b[0mndim\u001b[0m\u001b[1;33m,\u001b[0m \u001b[0mplacement\u001b[0m\u001b[1;33m=\u001b[0m\u001b[0mplacement\u001b[0m\u001b[1;33m)\u001b[0m\u001b[1;33m\u001b[0m\u001b[1;33m\u001b[0m\u001b[0m\n\u001b[0m\u001b[0;32m   2602\u001b[0m \u001b[1;33m\u001b[0m\u001b[0m\n\u001b[0;32m   2603\u001b[0m     \u001b[1;33m@\u001b[0m\u001b[0mproperty\u001b[0m\u001b[1;33m\u001b[0m\u001b[1;33m\u001b[0m\u001b[0m\n",
      "\u001b[1;32m~\\anaconda3\\envs\\PythonData\\lib\\site-packages\\pandas\\core\\internals\\blocks.py\u001b[0m in \u001b[0;36m__init__\u001b[1;34m(self, values, placement, ndim)\u001b[0m\n\u001b[0;32m    123\u001b[0m         \u001b[1;32mif\u001b[0m \u001b[0mself\u001b[0m\u001b[1;33m.\u001b[0m\u001b[0m_validate_ndim\u001b[0m \u001b[1;32mand\u001b[0m \u001b[0mself\u001b[0m\u001b[1;33m.\u001b[0m\u001b[0mndim\u001b[0m \u001b[1;32mand\u001b[0m \u001b[0mlen\u001b[0m\u001b[1;33m(\u001b[0m\u001b[0mself\u001b[0m\u001b[1;33m.\u001b[0m\u001b[0mmgr_locs\u001b[0m\u001b[1;33m)\u001b[0m \u001b[1;33m!=\u001b[0m \u001b[0mlen\u001b[0m\u001b[1;33m(\u001b[0m\u001b[0mself\u001b[0m\u001b[1;33m.\u001b[0m\u001b[0mvalues\u001b[0m\u001b[1;33m)\u001b[0m\u001b[1;33m:\u001b[0m\u001b[1;33m\u001b[0m\u001b[1;33m\u001b[0m\u001b[0m\n\u001b[0;32m    124\u001b[0m             raise ValueError(\n\u001b[1;32m--> 125\u001b[1;33m                 \u001b[1;34mf\"Wrong number of items passed {len(self.values)}, \"\u001b[0m\u001b[1;33m\u001b[0m\u001b[1;33m\u001b[0m\u001b[0m\n\u001b[0m\u001b[0;32m    126\u001b[0m                 \u001b[1;34mf\"placement implies {len(self.mgr_locs)}\"\u001b[0m\u001b[1;33m\u001b[0m\u001b[1;33m\u001b[0m\u001b[0m\n\u001b[0;32m    127\u001b[0m             )\n",
      "\u001b[1;31mValueError\u001b[0m: Wrong number of items passed 2, placement implies 1"
     ]
    }
   ],
   "source": [
    "# Item ID\n",
    "\n",
    "\n",
    "# retrieve information for Item Name, Item ID and Price\n",
    "#popular_items_info = purchase_data_df[['Item ID', 'Item Name', 'Price']]\n",
    "\n",
    "# create summary dataframe, grouping unique players by SN\n",
    "popular_items = pd.DataFrame(purchase_data_df.groupby('Item Name')['Item ID'].count())\n",
    "\n",
    "# rename column Purchase ID to Purchase Count\n",
    "popular_items = popular_items.rename(columns={'Item ID':'Purchase Count'})\n",
    "\n",
    "# create new columns for summary dataframe and execute basic calculations for each\n",
    "popular_items['Item ID'] = pd.DataFrame(purchase_data_df.groupby('Item ID'))  \n",
    "popular_items['Total Purchase Value'] = pd.DataFrame(purchase_data_df.groupby('Item Name')['Price'].sum())\n",
    "popular_items['Item Price'] = (popular_items['Total Purchase Value']) / popular_items[\"Purchase Count\"]\n",
    "\n",
    "format_dict = ({'Item Price': '${:,.2f}',\n",
    "               'Total Purchase Value': '${:,.2f}'})\n",
    "\n",
    "popular_items.head().style.format(format_dict)"
   ]
  },
  {
   "cell_type": "markdown",
   "metadata": {},
   "source": [
    "## Most Profitable Items"
   ]
  },
  {
   "cell_type": "markdown",
   "metadata": {},
   "source": [
    "* Sort the above table by total purchase value in descending order\n",
    "\n",
    "\n",
    "* Optional: give the displayed data cleaner formatting\n",
    "\n",
    "\n",
    "* Display a preview of the data frame\n",
    "\n"
   ]
  },
  {
   "cell_type": "code",
   "execution_count": null,
   "metadata": {
    "scrolled": true
   },
   "outputs": [],
   "source": []
  }
 ],
 "metadata": {
  "anaconda-cloud": {},
  "kernel_info": {
   "name": "python3"
  },
  "kernelspec": {
   "display_name": "Python 3",
   "language": "python",
   "name": "python3"
  },
  "language_info": {
   "codemirror_mode": {
    "name": "ipython",
    "version": 3
   },
   "file_extension": ".py",
   "mimetype": "text/x-python",
   "name": "python",
   "nbconvert_exporter": "python",
   "pygments_lexer": "ipython3",
   "version": "3.6.10"
  },
  "latex_envs": {
   "LaTeX_envs_menu_present": true,
   "autoclose": false,
   "autocomplete": true,
   "bibliofile": "biblio.bib",
   "cite_by": "apalike",
   "current_citInitial": 1,
   "eqLabelWithNumbers": true,
   "eqNumInitial": 1,
   "hotkeys": {
    "equation": "Ctrl-E",
    "itemize": "Ctrl-I"
   },
   "labels_anchors": false,
   "latex_user_defs": false,
   "report_style_numbering": false,
   "user_envs_cfg": false
  },
  "nteract": {
   "version": "0.2.0"
  }
 },
 "nbformat": 4,
 "nbformat_minor": 2
}
